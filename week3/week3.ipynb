{
 "cells": [
  {
   "cell_type": "code",
   "execution_count": 1,
   "id": "9edb4e2c-09c0-4011-9bc7-63e47b1649b6",
   "metadata": {
    "tags": []
   },
   "outputs": [
    {
     "name": "stdout",
     "output_type": "stream",
     "text": [
      "--2023-10-01 22:52:29--  https://raw.githubusercontent.com/alexeygrigorev/mlbookcamp-code/master/chapter-02-car-price/data.csv\n",
      "Loaded CA certificate '/etc/ssl/certs/ca-certificates.crt'\n",
      "Resolving raw.githubusercontent.com (raw.githubusercontent.com)... 185.199.110.133, 185.199.111.133, 185.199.109.133, ...\n",
      "Connecting to raw.githubusercontent.com (raw.githubusercontent.com)|185.199.110.133|:443... connected.\n",
      "HTTP request sent, awaiting response... 200 OK\n",
      "Length: 1475504 (1,4M) [text/plain]\n",
      "Saving to: ‘../data/car-price.csv’\n",
      "\n",
      "../data/car-price.c 100%[===================>]   1,41M  1,69MB/s    in 0,8s    \n",
      "\n",
      "2023-10-01 22:52:30 (1,69 MB/s) - ‘../data/car-price.csv’ saved [1475504/1475504]\n",
      "\n"
     ]
    }
   ],
   "source": [
    "# download the dataset\n",
    "file = \"https://raw.githubusercontent.com/alexeygrigorev/mlbookcamp-code/master/chapter-02-car-price/data.csv\"\n",
    "!wget $file -O ../data/car-price.csv"
   ]
  },
  {
   "cell_type": "code",
   "execution_count": 296,
   "id": "5a85ea3e-a475-45b1-8329-112bdd2da503",
   "metadata": {
    "tags": []
   },
   "outputs": [],
   "source": [
    "import numpy as np\n",
    "import pandas as pd\n",
    "\n",
    "from sklearn.model_selection import train_test_split\n",
    "from sklearn.feature_extraction import DictVectorizer\n",
    "from sklearn.linear_model import LogisticRegression, Ridge\n",
    "from sklearn.metrics import mutual_info_score, accuracy_score, mean_squared_error\n",
    "\n",
    "\n",
    "FEATURES = [\n",
    "    \"Make\", \"Model\", \"Year\", \"Engine HP\",\n",
    "    \"Engine Cylinders\", \"Transmission Type\",\n",
    "    \"Vehicle Style\", \"highway MPG\", \"city mpg\"\n",
    "]\n",
    "\n",
    "TARGET = \"MSRP\"\n",
    "SEED = 42\n",
    "\n",
    "df = pd.read_csv(\"../data/car-price.csv\", usecols=FEATURES+[TARGET])\n",
    "df.columns = df.columns.str.replace(' ', '_').str.lower()\n",
    "df = df.rename(columns={\"msrp\": \"price\"})\n",
    "df.fillna(value=0, inplace=True)"
   ]
  },
  {
   "cell_type": "markdown",
   "id": "e61e70ea-d906-4e1c-ae2b-a789fc69fdfa",
   "metadata": {},
   "source": [
    "#### Question 1. What is the most frequent observation (mode) for the column transmission_type?\n",
    "AUTOMATIC"
   ]
  },
  {
   "cell_type": "code",
   "execution_count": 297,
   "id": "60b0e7ba-742d-4b84-a0eb-7c65f38053ff",
   "metadata": {
    "tags": []
   },
   "outputs": [
    {
     "data": {
      "text/plain": [
       "<Axes: >"
      ]
     },
     "execution_count": 297,
     "metadata": {},
     "output_type": "execute_result"
    },
    {
     "data": {
      "image/png": "[encoded data removed]",
      "text/plain": [
       "<Figure size 800x400 with 1 Axes>"
      ]
     },
     "metadata": {},
     "output_type": "display_data"
    }
   ],
   "source": [
    "df.transmission_type.hist(figsize=(8, 4))"
   ]
  },
  {
   "cell_type": "markdown",
   "id": "79f7b69a-9b11-4c7b-8451-086bda2a76ee",
   "metadata": {},
   "source": [
    "#### Question 2. What are the two features that have the biggest correlation in this dataset?\n",
    "highway_mpg and city_mpg"
   ]
  },
  {
   "cell_type": "code",
   "execution_count": 298,
   "id": "dabfcb21-65d0-4bb2-ac6b-f14f4c61d39a",
   "metadata": {
    "tags": []
   },
   "outputs": [
    {
     "data": {
      "text/html": [
       "<div>\n",
       "<style scoped>\n",
       "    .dataframe tbody tr th:only-of-type {\n",
       "        vertical-align: middle;\n",
       "    }\n",
       "\n",
       "    .dataframe tbody tr th {\n",
       "        vertical-align: top;\n",
       "    }\n",
       "\n",
       "    .dataframe thead th {\n",
       "        text-align: right;\n",
       "    }\n",
       "</style>\n",
       "<table border=\"1\" class=\"dataframe\">\n",
       "  <thead>\n",
       "    <tr style=\"text-align: right;\">\n",
       "      <th></th>\n",
       "      <th>year</th>\n",
       "      <th>highway_mpg</th>\n",
       "      <th>city_mpg</th>\n",
       "      <th>price</th>\n",
       "    </tr>\n",
       "  </thead>\n",
       "  <tbody>\n",
       "    <tr>\n",
       "      <th>year</th>\n",
       "      <td>1.000000</td>\n",
       "      <td>0.258240</td>\n",
       "      <td>0.198171</td>\n",
       "      <td>0.227590</td>\n",
       "    </tr>\n",
       "    <tr>\n",
       "      <th>highway_mpg</th>\n",
       "      <td>0.258240</td>\n",
       "      <td>1.000000</td>\n",
       "      <td>0.886829</td>\n",
       "      <td>-0.160043</td>\n",
       "    </tr>\n",
       "    <tr>\n",
       "      <th>city_mpg</th>\n",
       "      <td>0.198171</td>\n",
       "      <td>0.886829</td>\n",
       "      <td>1.000000</td>\n",
       "      <td>-0.157676</td>\n",
       "    </tr>\n",
       "    <tr>\n",
       "      <th>price</th>\n",
       "      <td>0.227590</td>\n",
       "      <td>-0.160043</td>\n",
       "      <td>-0.157676</td>\n",
       "      <td>1.000000</td>\n",
       "    </tr>\n",
       "  </tbody>\n",
       "</table>\n",
       "</div>"
      ],
      "text/plain": [
       "                 year  highway_mpg  city_mpg     price\n",
       "year         1.000000     0.258240  0.198171  0.227590\n",
       "highway_mpg  0.258240     1.000000  0.886829 -0.160043\n",
       "city_mpg     0.198171     0.886829  1.000000 -0.157676\n",
       "price        0.227590    -0.160043 -0.157676  1.000000"
      ]
     },
     "execution_count": 298,
     "metadata": {},
     "output_type": "execute_result"
    }
   ],
   "source": [
    "numeric = list(df.dtypes[df.dtypes.isin([\"int64\", \"float64\"])].index)\n",
    "df[numeric].corr()"
   ]
  },
  {
   "cell_type": "code",
   "execution_count": 299,
   "id": "f09db3b4-9584-473b-bb66-88859220386f",
   "metadata": {
    "tags": []
   },
   "outputs": [],
   "source": [
    "# make price binary\n",
    "df[\"above_average\"] = df.price > df.price.mean()"
   ]
  },
  {
   "cell_type": "code",
   "execution_count": 300,
   "id": "757e0ed5-9727-47d7-be71-8a46c5a5e78f",
   "metadata": {
    "tags": []
   },
   "outputs": [],
   "source": [
    "# split the data\n",
    "df_train_full, df_test = train_test_split(df, test_size=.2, random_state=SEED)\n",
    "df_train, df_val = train_test_split(df_train_full, test_size=.33, random_state=SEED)\n",
    "\n",
    "y_train = df_train.above_average.values\n",
    "y_val = df_val.above_average.values\n",
    "\n",
    "y_train_price = np.log1p(df_train.price.values)\n",
    "y_val_price = np.log1p(df_val.price.values)\n",
    "\n",
    "df_train.drop([\n",
    "    #\"price\",\n",
    "    \"above_average\"], axis=1, inplace=True)\n",
    "df_val.drop([\n",
    "    #\"price\", \n",
    "    \"above_average\"], axis=1, inplace=True)"
   ]
  },
  {
   "cell_type": "markdown",
   "id": "27d1f369-5a13-4ec8-bd86-7d98b127192c",
   "metadata": {},
   "source": [
    "#### Question 3. Which of these variables has the lowest mutual information score?\n",
    "transmission_type"
   ]
  },
  {
   "cell_type": "code",
   "execution_count": 301,
   "id": "b2ef344e-966c-4365-8b31-d489a19bfdad",
   "metadata": {
    "tags": []
   },
   "outputs": [],
   "source": [
    "categorical = list(df.dtypes[df.dtypes==\"object\"].index)\n",
    "\n",
    "\n",
    "def calculate_mi(series):\n",
    "    return mutual_info_score(series, y_train)\n",
    "\n",
    "\n",
    "df_mi = df_train[categorical].apply(calculate_mi)\n",
    "df_mi = df_mi.sort_values(ascending=False).to_frame(name='MI')"
   ]
  },
  {
   "cell_type": "code",
   "execution_count": 302,
   "id": "866e599a-f34d-47f8-a1db-f47af1c7ab95",
   "metadata": {
    "tags": []
   },
   "outputs": [
    {
     "data": {
      "text/html": [
       "<div>\n",
       "<style scoped>\n",
       "    .dataframe tbody tr th:only-of-type {\n",
       "        vertical-align: middle;\n",
       "    }\n",
       "\n",
       "    .dataframe tbody tr th {\n",
       "        vertical-align: top;\n",
       "    }\n",
       "\n",
       "    .dataframe thead th {\n",
       "        text-align: right;\n",
       "    }\n",
       "</style>\n",
       "<table border=\"1\" class=\"dataframe\">\n",
       "  <thead>\n",
       "    <tr style=\"text-align: right;\">\n",
       "      <th></th>\n",
       "      <th>MI</th>\n",
       "    </tr>\n",
       "  </thead>\n",
       "  <tbody>\n",
       "    <tr>\n",
       "      <th>model</th>\n",
       "      <td>0.464453</td>\n",
       "    </tr>\n",
       "    <tr>\n",
       "      <th>make</th>\n",
       "      <td>0.239861</td>\n",
       "    </tr>\n",
       "    <tr>\n",
       "      <th>vehicle_style</th>\n",
       "      <td>0.084913</td>\n",
       "    </tr>\n",
       "    <tr>\n",
       "      <th>transmission_type</th>\n",
       "      <td>0.020512</td>\n",
       "    </tr>\n",
       "  </tbody>\n",
       "</table>\n",
       "</div>"
      ],
      "text/plain": [
       "                         MI\n",
       "model              0.464453\n",
       "make               0.239861\n",
       "vehicle_style      0.084913\n",
       "transmission_type  0.020512"
      ]
     },
     "execution_count": 302,
     "metadata": {},
     "output_type": "execute_result"
    }
   ],
   "source": [
    "df_mi"
   ]
  },
  {
   "cell_type": "markdown",
   "id": "29def3f2-2e29-4cc8-aa9b-f48d7b40b53f",
   "metadata": {},
   "source": [
    "#### Question 4. What accuracy did you get?\n",
    "0.94"
   ]
  },
  {
   "cell_type": "code",
   "execution_count": 303,
   "id": "dbcd5890-e3b8-475e-9329-ab0423fabe30",
   "metadata": {
    "tags": []
   },
   "outputs": [
    {
     "data": {
      "text/html": [
       "<style>#sk-container-id-11 {color: black;}#sk-container-id-11 pre{padding: 0;}#sk-container-id-11 div.sk-toggleable {background-color: white;}#sk-container-id-11 label.sk-toggleable__label {cursor: pointer;display: block;width: 100%;margin-bottom: 0;padding: 0.3em;box-sizing: border-box;text-align: center;}#sk-container-id-11 label.sk-toggleable__label-arrow:before {content: \"▸\";float: left;margin-right: 0.25em;color: #696969;}#sk-container-id-11 label.sk-toggleable__label-arrow:hover:before {color: black;}#sk-container-id-11 div.sk-estimator:hover label.sk-toggleable__label-arrow:before {color: black;}#sk-container-id-11 div.sk-toggleable__content {max-height: 0;max-width: 0;overflow: hidden;text-align: left;background-color: #f0f8ff;}#sk-container-id-11 div.sk-toggleable__content pre {margin: 0.2em;color: black;border-radius: 0.25em;background-color: #f0f8ff;}#sk-container-id-11 input.sk-toggleable__control:checked~div.sk-toggleable__content {max-height: 200px;max-width: 100%;overflow: auto;}#sk-container-id-11 input.sk-toggleable__control:checked~label.sk-toggleable__label-arrow:before {content: \"▾\";}#sk-container-id-11 div.sk-estimator input.sk-toggleable__control:checked~label.sk-toggleable__label {background-color: #d4ebff;}#sk-container-id-11 div.sk-label input.sk-toggleable__control:checked~label.sk-toggleable__label {background-color: #d4ebff;}#sk-container-id-11 input.sk-hidden--visually {border: 0;clip: rect(1px 1px 1px 1px);clip: rect(1px, 1px, 1px, 1px);height: 1px;margin: -1px;overflow: hidden;padding: 0;position: absolute;width: 1px;}#sk-container-id-11 div.sk-estimator {font-family: monospace;background-color: #f0f8ff;border: 1px dotted black;border-radius: 0.25em;box-sizing: border-box;margin-bottom: 0.5em;}#sk-container-id-11 div.sk-estimator:hover {background-color: #d4ebff;}#sk-container-id-11 div.sk-parallel-item::after {content: \"\";width: 100%;border-bottom: 1px solid gray;flex-grow: 1;}#sk-container-id-11 div.sk-label:hover label.sk-toggleable__label {background-color: #d4ebff;}#sk-container-id-11 div.sk-serial::before {content: \"\";position: absolute;border-left: 1px solid gray;box-sizing: border-box;top: 0;bottom: 0;left: 50%;z-index: 0;}#sk-container-id-11 div.sk-serial {display: flex;flex-direction: column;align-items: center;background-color: white;padding-right: 0.2em;padding-left: 0.2em;position: relative;}#sk-container-id-11 div.sk-item {position: relative;z-index: 1;}#sk-container-id-11 div.sk-parallel {display: flex;align-items: stretch;justify-content: center;background-color: white;position: relative;}#sk-container-id-11 div.sk-item::before, #sk-container-id-11 div.sk-parallel-item::before {content: \"\";position: absolute;border-left: 1px solid gray;box-sizing: border-box;top: 0;bottom: 0;left: 50%;z-index: -1;}#sk-container-id-11 div.sk-parallel-item {display: flex;flex-direction: column;z-index: 1;position: relative;background-color: white;}#sk-container-id-11 div.sk-parallel-item:first-child::after {align-self: flex-end;width: 50%;}#sk-container-id-11 div.sk-parallel-item:last-child::after {align-self: flex-start;width: 50%;}#sk-container-id-11 div.sk-parallel-item:only-child::after {width: 0;}#sk-container-id-11 div.sk-dashed-wrapped {border: 1px dashed gray;margin: 0 0.4em 0.5em 0.4em;box-sizing: border-box;padding-bottom: 0.4em;background-color: white;}#sk-container-id-11 div.sk-label label {font-family: monospace;font-weight: bold;display: inline-block;line-height: 1.2em;}#sk-container-id-11 div.sk-label-container {text-align: center;}#sk-container-id-11 div.sk-container {/* jupyter's `normalize.less` sets `[hidden] { display: none; }` but bootstrap.min.css set `[hidden] { display: none !important; }` so we also need the `!important` here to be able to override the default hidden behavior on the sphinx rendered scikit-learn.org. See: https://github.com/scikit-learn/scikit-learn/issues/21755 */display: inline-block !important;position: relative;}#sk-container-id-11 div.sk-text-repr-fallback {display: none;}</style><div id=\"sk-container-id-11\" class=\"sk-top-container\"><div class=\"sk-text-repr-fallback\"><pre>LogisticRegression(C=10, max_iter=1000, random_state=42, solver=&#x27;liblinear&#x27;)</pre><b>In a Jupyter environment, please rerun this cell to show the HTML representation or trust the notebook. <br />On GitHub, the HTML representation is unable to render, please try loading this page with nbviewer.org.</b></div><div class=\"sk-container\" hidden><div class=\"sk-item\"><div class=\"sk-estimator sk-toggleable\"><input class=\"sk-toggleable__control sk-hidden--visually\" id=\"sk-estimator-id-11\" type=\"checkbox\" checked><label for=\"sk-estimator-id-11\" class=\"sk-toggleable__label sk-toggleable__label-arrow\">LogisticRegression</label><div class=\"sk-toggleable__content\"><pre>LogisticRegression(C=10, max_iter=1000, random_state=42, solver=&#x27;liblinear&#x27;)</pre></div></div></div></div></div>"
      ],
      "text/plain": [
       "LogisticRegression(C=10, max_iter=1000, random_state=42, solver='liblinear')"
      ]
     },
     "execution_count": 303,
     "metadata": {},
     "output_type": "execute_result"
    }
   ],
   "source": [
    "# train_dict = df_train[categorical + numeric[:-1]].to_dict(orient=\"records\")\n",
    "train_dict = df_train[categorical].to_dict(orient=\"records\")\n",
    "dv = DictVectorizer(sparse=True)\n",
    "dv.fit(train_dict)\n",
    "X_train = dv.transform(train_dict)\n",
    "model = LogisticRegression(solver=\"liblinear\", C=10, max_iter=1000, random_state=SEED)\n",
    "model.fit(X_train, y_train)"
   ]
  },
  {
   "cell_type": "code",
   "execution_count": 304,
   "id": "05d395d1-07b7-4547-97ce-097dd54199fb",
   "metadata": {
    "tags": []
   },
   "outputs": [
    {
     "data": {
      "text/plain": [
       "['make', 'model', 'transmission_type', 'vehicle_style']"
      ]
     },
     "execution_count": 304,
     "metadata": {},
     "output_type": "execute_result"
    }
   ],
   "source": [
    "categorical"
   ]
  },
  {
   "cell_type": "code",
   "execution_count": 305,
   "id": "8493147a-6767-427b-89b0-90756f2b0440",
   "metadata": {
    "tags": []
   },
   "outputs": [],
   "source": [
    "val_dict = df_val[categorical].to_dict(orient=\"records\")\n",
    "X_val = dv.transform(val_dict)"
   ]
  },
  {
   "cell_type": "code",
   "execution_count": 306,
   "id": "889149ed-57af-41ca-8205-65e424ab3932",
   "metadata": {
    "tags": []
   },
   "outputs": [],
   "source": [
    "y_pred = model.predict(X_val)"
   ]
  },
  {
   "cell_type": "code",
   "execution_count": 307,
   "id": "b4921306-4cc7-4726-bacf-258ee9fa1317",
   "metadata": {
    "tags": []
   },
   "outputs": [
    {
     "data": {
      "text/plain": [
       "0.94"
      ]
     },
     "execution_count": 307,
     "metadata": {},
     "output_type": "execute_result"
    }
   ],
   "source": [
    "round(accuracy_score(y_val, y_pred), 2)"
   ]
  },
  {
   "cell_type": "markdown",
   "id": "400de9fe-3734-4a61-aaa8-da4014492977",
   "metadata": {},
   "source": [
    "#### Question 5. Which of following feature has the smallest difference?\n",
    "year"
   ]
  },
  {
   "cell_type": "code",
   "execution_count": 308,
   "id": "3ad7b36e-cbc2-4029-a9af-0a34a4625299",
   "metadata": {
    "tags": []
   },
   "outputs": [],
   "source": [
    "cols = categorical + numeric[:-1]\n",
    "train_dict = df_train[cols].to_dict(orient=\"records\")\n",
    "dv = DictVectorizer(sparse=True)\n",
    "dv.fit(train_dict)\n",
    "X_train = dv.transform(train_dict)\n",
    "model = LogisticRegression(solver=\"liblinear\", C=10, max_iter=1000, random_state=SEED)\n",
    "model.fit(X_train, y_train)\n",
    "val_dict = df_val[cols].to_dict(orient=\"records\")\n",
    "X_val = dv.transform(val_dict)\n",
    "    \n",
    "y_pred = model.predict(X_val)\n",
    "original = round(accuracy_score(y_val, y_pred), 2)\n",
    "\n",
    "params = dict(zip(cols, [None] * len(cols)))\n",
    "\n",
    "for k in params.keys():\n",
    "    cols = [c for c in categorical + numeric[:-1] if c != k]\n",
    "    train_dict = df_train[cols].to_dict(orient=\"records\")\n",
    "    dv = DictVectorizer(sparse=True)\n",
    "    dv.fit(train_dict)\n",
    "    X_train = dv.transform(train_dict)\n",
    "    model = LogisticRegression(solver=\"liblinear\", C=10, max_iter=1000, random_state=SEED)\n",
    "    model.fit(X_train, y_train)\n",
    "    val_dict = df_val[cols].to_dict(orient=\"records\")\n",
    "    X_val = dv.transform(val_dict)\n",
    "    \n",
    "    y_pred = model.predict(X_val)\n",
    "    params[k] = round(accuracy_score(y_val, y_pred), 2)"
   ]
  },
  {
   "cell_type": "code",
   "execution_count": 309,
   "id": "499e91a6-8581-4c2c-83bd-882dbbc2f00d",
   "metadata": {
    "tags": []
   },
   "outputs": [
    {
     "data": {
      "text/plain": [
       "{'make': 0.92,\n",
       " 'model': 0.86,\n",
       " 'transmission_type': 0.91,\n",
       " 'vehicle_style': 0.9,\n",
       " 'year': 0.94,\n",
       " 'highway_mpg': 0.93,\n",
       " 'city_mpg': 0.93}"
      ]
     },
     "execution_count": 309,
     "metadata": {},
     "output_type": "execute_result"
    }
   ],
   "source": [
    "params"
   ]
  },
  {
   "cell_type": "code",
   "execution_count": 312,
   "id": "9926409f-5203-4567-a45b-cd481792528a",
   "metadata": {
    "tags": []
   },
   "outputs": [
    {
     "name": "stdout",
     "output_type": "stream",
     "text": [
      "make: 0.03\n",
      "model: 0.09\n",
      "transmission_type: 0.04\n",
      "vehicle_style: 0.05\n",
      "year: 0.01\n",
      "highway_mpg: 0.02\n",
      "city_mpg: 0.02\n"
     ]
    }
   ],
   "source": [
    "for k, v in params.items():\n",
    "    print(F\"{k}: {round(0.95 - v, 2)}\")"
   ]
  },
  {
   "cell_type": "markdown",
   "id": "41827829-dc2c-4625-80f0-70ad8b1df12f",
   "metadata": {},
   "source": [
    "#### Question 6. Which of these alphas leads to the best RMSE on the validation set?\n",
    "0.1"
   ]
  },
  {
   "cell_type": "code",
   "execution_count": 313,
   "id": "ee520878-3213-4a16-9de6-629f64307897",
   "metadata": {
    "tags": []
   },
   "outputs": [],
   "source": [
    "cols = categorical + numeric[:-1]\n",
    "alpha = [0, 0.01, 0.1, 1, 10]\n",
    "train_dict = df_train[cols].to_dict(orient=\"records\")\n",
    "dv = DictVectorizer(sparse=True)\n",
    "dv.fit(train_dict)\n",
    "X_train = dv.transform(train_dict)\n",
    "val_dict = df_val[cols].to_dict(orient=\"records\")\n",
    "X_val = dv.transform(val_dict)"
   ]
  },
  {
   "cell_type": "code",
   "execution_count": 314,
   "id": "a4a85a6a-c882-4268-bdda-b6982aa9b449",
   "metadata": {
    "tags": []
   },
   "outputs": [],
   "source": [
    "result = dict(zip(alpha, [None] * len(alpha)))\n",
    "for a in alpha:\n",
    "    rr = Ridge(alpha=a, solver=\"sag\", random_state=SEED)\n",
    "    rr.fit(X_train, y_train_price)\n",
    "    y_pred = rr.predict(X_val)\n",
    "    result[a] = mean_squared_error(y_val_price, y_pred, squared=False)"
   ]
  },
  {
   "cell_type": "code",
   "execution_count": 315,
   "id": "4c894664-310e-4639-b01a-fd6b104ae848",
   "metadata": {
    "tags": []
   },
   "outputs": [
    {
     "data": {
      "text/plain": [
       "{0: 0.24391072672705416,\n",
       " 0.01: 0.24249229415545245,\n",
       " 0.1: 0.24016651397537564,\n",
       " 1: 0.2498253866860999,\n",
       " 10: 0.3518338479348105}"
      ]
     },
     "execution_count": 315,
     "metadata": {},
     "output_type": "execute_result"
    }
   ],
   "source": [
    "result"
   ]
  },
  {
   "cell_type": "code",
   "execution_count": 316,
   "id": "95bc69fc-3ee4-48a2-9606-1e533af4a73d",
   "metadata": {
    "tags": []
   },
   "outputs": [
    {
     "name": "stdout",
     "output_type": "stream",
     "text": [
      "0 0.244\n",
      "0.01 0.242\n",
      "0.1 0.24\n",
      "1 0.25\n",
      "10 0.352\n"
     ]
    }
   ],
   "source": [
    "for k, v in result.items():\n",
    "    print(k, round(v, 3))"
   ]
  }
 ],
 "metadata": {
  "kernelspec": {
   "display_name": "Python 3 (ipykernel)",
   "language": "python",
   "name": "python3"
  },
  "language_info": {
   "codemirror_mode": {
    "name": "ipython",
    "version": 3
   },
   "file_extension": ".py",
   "mimetype": "text/x-python",
   "name": "python",
   "nbconvert_exporter": "python",
   "pygments_lexer": "ipython3",
   "version": "3.10.13"
  }
 },
 "nbformat": 4,
 "nbformat_minor": 5
}
