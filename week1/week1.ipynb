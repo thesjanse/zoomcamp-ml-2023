{
 "cells": [
  {
   "cell_type": "markdown",
   "id": "8a91a73c-bef0-47cd-97bb-cc557a3d4462",
   "metadata": {},
   "source": [
    "#### Question 1. Version of pandas.\n",
    "2.0.3"
   ]
  },
  {
   "cell_type": "code",
   "execution_count": 2,
   "id": "c0696d6b-574b-42a2-84dc-a0e047d86308",
   "metadata": {
    "tags": []
   },
   "outputs": [
    {
     "name": "stdout",
     "output_type": "stream",
     "text": [
      "# packages in environment at /home/sjanse/miniconda3/envs/mlzoomcamp:\n",
      "#\n",
      "# Name                    Version                   Build  Channel\n",
      "pandas                    2.0.3           py310h1128e8f_0  \n"
     ]
    }
   ],
   "source": [
    "!conda list pandas"
   ]
  },
  {
   "cell_type": "markdown",
   "id": "c5073eef-1f1c-48c0-836d-57b982f0e099",
   "metadata": {},
   "source": [
    "#### 2. Question 2: How many columns in the dataset?\n",
    "10"
   ]
  },
  {
   "cell_type": "code",
   "execution_count": 4,
   "id": "59d1ea06-2b95-4fcd-97bc-e8cbdcadb091",
   "metadata": {
    "tags": []
   },
   "outputs": [
    {
     "name": "stdout",
     "output_type": "stream",
     "text": [
      "--2023-09-17 23:26:02--  https://raw.githubusercontent.com/alexeygrigorev/datasets/master/housing.csv\n",
      "Loaded CA certificate '/etc/ssl/certs/ca-certificates.crt'\n",
      "Resolving raw.githubusercontent.com (raw.githubusercontent.com)... 185.199.109.133, 185.199.108.133, 185.199.111.133, ...\n",
      "Connecting to raw.githubusercontent.com (raw.githubusercontent.com)|185.199.109.133|:443... connected.\n",
      "HTTP request sent, awaiting response... 200 OK\n",
      "Length: 1423529 (1,4M) [text/plain]\n",
      "Saving to: ‘./data/housing.csv’\n",
      "\n",
      "./data/housing.csv  100%[===================>]   1,36M  6,08MB/s    in 0,2s    \n",
      "\n",
      "2023-09-17 23:26:02 (6,08 MB/s) - ‘./data/housing.csv’ saved [1423529/1423529]\n",
      "\n"
     ]
    }
   ],
   "source": [
    "!wget https://raw.githubusercontent.com/alexeygrigorev/datasets/master/housing.csv -O ./data/housing.csv"
   ]
  },
  {
   "cell_type": "code",
   "execution_count": 5,
   "id": "a95e92c2-daeb-4a67-a97f-ce032b449909",
   "metadata": {
    "tags": []
   },
   "outputs": [
    {
     "name": "stdout",
     "output_type": "stream",
     "text": [
      "(20640, 10)\n"
     ]
    }
   ],
   "source": [
    "import pandas as pd\n",
    "\n",
    "df = pd.read_csv(\"./data/housing.csv\")\n",
    "print(df.shape)"
   ]
  },
  {
   "cell_type": "markdown",
   "id": "55a71501-ed6e-4af6-8020-ac674b22eabe",
   "metadata": {},
   "source": [
    "#### Q3. Which columns of the dataset have missing values?\n",
    "total_bedrooms"
   ]
  },
  {
   "cell_type": "code",
   "execution_count": 6,
   "id": "56a67472-cf64-4312-979e-9705f8889247",
   "metadata": {
    "tags": []
   },
   "outputs": [
    {
     "name": "stdout",
     "output_type": "stream",
     "text": [
      "<class 'pandas.core.frame.DataFrame'>\n",
      "RangeIndex: 20640 entries, 0 to 20639\n",
      "Data columns (total 10 columns):\n",
      " #   Column              Non-Null Count  Dtype  \n",
      "---  ------              --------------  -----  \n",
      " 0   longitude           20640 non-null  float64\n",
      " 1   latitude            20640 non-null  float64\n",
      " 2   housing_median_age  20640 non-null  float64\n",
      " 3   total_rooms         20640 non-null  float64\n",
      " 4   total_bedrooms      20433 non-null  float64\n",
      " 5   population          20640 non-null  float64\n",
      " 6   households          20640 non-null  float64\n",
      " 7   median_income       20640 non-null  float64\n",
      " 8   median_house_value  20640 non-null  float64\n",
      " 9   ocean_proximity     20640 non-null  object \n",
      "dtypes: float64(9), object(1)\n",
      "memory usage: 1.6+ MB\n"
     ]
    }
   ],
   "source": [
    "df.info()"
   ]
  },
  {
   "cell_type": "markdown",
   "id": "a3eb1d72-f33c-4198-993e-aae86445bd8d",
   "metadata": {},
   "source": [
    "#### Q4. How many unique values does the ocean_proximity column have?\n",
    "5"
   ]
  },
  {
   "cell_type": "code",
   "execution_count": 9,
   "id": "66058c4b-a920-4f41-bfc9-cf5147a8af6c",
   "metadata": {
    "tags": []
   },
   "outputs": [
    {
     "name": "stdout",
     "output_type": "stream",
     "text": [
      "5\n",
      "['NEAR BAY' '<1H OCEAN' 'INLAND' 'NEAR OCEAN' 'ISLAND']\n"
     ]
    }
   ],
   "source": [
    "print(df.ocean_proximity.nunique())\n",
    "print(df.ocean_proximity.unique())"
   ]
  },
  {
   "cell_type": "markdown",
   "id": "1e171265-42f5-4bce-8c00-123ffeb603e0",
   "metadata": {},
   "source": [
    "#### Q5. What's the average value of the median_house_value for the houses located near the bay?\n",
    "259212"
   ]
  },
  {
   "cell_type": "code",
   "execution_count": 12,
   "id": "7dc1af56-2cbd-4746-9aff-cfde1d4c5c39",
   "metadata": {
    "tags": []
   },
   "outputs": [
    {
     "data": {
      "text/plain": [
       "259212.31179039303"
      ]
     },
     "execution_count": 12,
     "metadata": {},
     "output_type": "execute_result"
    }
   ],
   "source": [
    "df[df.ocean_proximity == \"NEAR BAY\"].median_house_value.mean()"
   ]
  },
  {
   "cell_type": "markdown",
   "id": "237fe56c-3e31-4bed-b849-ae39f53f5e9b",
   "metadata": {},
   "source": [
    "#### Q6. Has it changed?\n",
    "No"
   ]
  },
  {
   "cell_type": "code",
   "execution_count": 13,
   "id": "7fab4830-f07e-437f-8a5e-1e6e716a2178",
   "metadata": {
    "tags": []
   },
   "outputs": [
    {
     "name": "stdout",
     "output_type": "stream",
     "text": [
      "initial: 537.8705525375618; after: 537.8705525375617; delta: -1.1368683772161603e-13\n"
     ]
    }
   ],
   "source": [
    "d = df.copy()\n",
    "initial = d.total_bedrooms.mean()\n",
    "d.total_bedrooms = d.total_bedrooms.fillna(value=initial)\n",
    "after = d.total_bedrooms.mean()\n",
    "print(F\"initial: {initial}; after: {after}; delta: {after - initial}\")"
   ]
  },
  {
   "cell_type": "markdown",
   "id": "e3fb5c2e-b16c-4f54-b748-deee618264e1",
   "metadata": {},
   "source": [
    "#### Q7. What's the value of the last element of w?\n",
    "5.6992"
   ]
  },
  {
   "cell_type": "code",
   "execution_count": 26,
   "id": "8b586744-a937-4264-ac6f-cea9171b7bca",
   "metadata": {
    "tags": []
   },
   "outputs": [],
   "source": [
    "import numpy as np\n",
    "\n",
    "\n",
    "def vector_vector_multiplication(u, v):\n",
    "    assert u.shape[0] == v.shape[0]\n",
    "    \n",
    "    n = u.shape[0]\n",
    "    \n",
    "    result = 0.0\n",
    "\n",
    "    for i in range(n):\n",
    "        result = result + u[i] * v[i]\n",
    "    \n",
    "    return result\n",
    "\n",
    "\n",
    "def matrix_vector_multiplication(U, v):\n",
    "    assert U.shape[1] == v.shape[0]\n",
    "    \n",
    "    num_rows = U.shape[0]\n",
    "    \n",
    "    result = np.zeros(num_rows)\n",
    "    \n",
    "    for i in range(num_rows):\n",
    "        result[i] = vector_vector_multiplication(U[i], v)\n",
    "    \n",
    "    return result\n",
    "\n",
    "\n",
    "def matrix_matrix_multiplication(U, V):\n",
    "    assert U.shape[1] == V.shape[0]\n",
    "    \n",
    "    num_rows = U.shape[0]\n",
    "    num_cols = V.shape[1]\n",
    "    \n",
    "    result = np.zeros((num_rows, num_cols))\n",
    "    \n",
    "    for i in range(num_cols):\n",
    "        vi = V[:, i]\n",
    "        Uvi = matrix_vector_multiplication(U, vi)\n",
    "        result[:, i] = Uvi\n",
    "    \n",
    "    return result"
   ]
  },
  {
   "cell_type": "code",
   "execution_count": 61,
   "id": "10a6f64b-ec9c-4721-aa13-3797efc27ece",
   "metadata": {
    "tags": []
   },
   "outputs": [],
   "source": [
    "islands = df[df.ocean_proximity == \"ISLAND\"].copy()[[\"housing_median_age\", \"total_rooms\", \"total_bedrooms\"]]\n",
    "X = islands.values"
   ]
  },
  {
   "cell_type": "code",
   "execution_count": 62,
   "id": "db43894e-9c80-4c3a-a206-7f88bcec146e",
   "metadata": {
    "tags": []
   },
   "outputs": [],
   "source": [
    "xtx = matrix_matrix_multiplication(X.T, X)\n",
    "inverse_xtx = np.linalg.inv(xtx)"
   ]
  },
  {
   "cell_type": "code",
   "execution_count": 63,
   "id": "0bf617b0-7a03-465e-8327-54bb53b855bb",
   "metadata": {
    "tags": []
   },
   "outputs": [],
   "source": [
    "y = np.array([950, 1300, 800, 1000, 1300])"
   ]
  },
  {
   "cell_type": "code",
   "execution_count": 64,
   "id": "b0e523b3-5ea4-4c22-9110-8c65870a38ca",
   "metadata": {
    "tags": []
   },
   "outputs": [],
   "source": [
    "multiplication = matrix_matrix_multiplication(inverse_xtx, X.T)"
   ]
  },
  {
   "cell_type": "code",
   "execution_count": 67,
   "id": "148e9065-8d6b-4d05-b5ec-5ff48106b6de",
   "metadata": {
    "tags": []
   },
   "outputs": [
    {
     "data": {
      "text/plain": [
       "array([[-7.84328036, -8.49171012, -1.85727372, 25.65143741, 15.6641364 ],\n",
       "       [-1.57559761,  1.44833145,  1.11724729, -1.03214974, -1.43907321],\n",
       "       [ 7.16646682, -3.92552691, -3.64100058,  1.81685089,  4.28243922]])"
      ]
     },
     "execution_count": 67,
     "metadata": {},
     "output_type": "execute_result"
    }
   ],
   "source": [
    "multiplication * y"
   ]
  },
  {
   "cell_type": "code",
   "execution_count": 70,
   "id": "d91844ae-1974-48c0-90b4-6e3ca2802109",
   "metadata": {
    "tags": []
   },
   "outputs": [],
   "source": [
    "w = matrix_vector_multiplication(multiplication, y)"
   ]
  },
  {
   "cell_type": "code",
   "execution_count": 71,
   "id": "5d44b23f-17ef-455e-ad79-a27c2fe01860",
   "metadata": {
    "tags": []
   },
   "outputs": [
    {
     "data": {
      "text/plain": [
       "array([23.12330961, -1.48124183,  5.69922946])"
      ]
     },
     "execution_count": 71,
     "metadata": {},
     "output_type": "execute_result"
    }
   ],
   "source": [
    "w"
   ]
  }
 ],
 "metadata": {
  "kernelspec": {
   "display_name": "Python 3 (ipykernel)",
   "language": "python",
   "name": "python3"
  },
  "language_info": {
   "codemirror_mode": {
    "name": "ipython",
    "version": 3
   },
   "file_extension": ".py",
   "mimetype": "text/x-python",
   "name": "python",
   "nbconvert_exporter": "python",
   "pygments_lexer": "ipython3",
   "version": "3.10.13"
  }
 },
 "nbformat": 4,
 "nbformat_minor": 5
}
